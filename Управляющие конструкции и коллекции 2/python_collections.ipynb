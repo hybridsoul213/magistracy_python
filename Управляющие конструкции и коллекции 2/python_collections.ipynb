{
 "cells": [
  {
   "cell_type": "markdown",
   "id": "40fb81dd-4a68-4a89-877b-9a3123b886a0",
   "metadata": {},
   "source": [
    "### Задание 1"
   ]
  },
  {
   "cell_type": "code",
   "execution_count": 9,
   "id": "b34e6a19-eadf-4593-b48d-148c16a47f23",
   "metadata": {},
   "outputs": [
    {
     "name": "stdout",
     "output_type": "stream",
     "text": [
      "Результат: {98, 35, 213, 54, 119, 15}\n"
     ]
    }
   ],
   "source": [
    "ids = {\n",
    "    'user1': [213, 213, 213, 15, 213],\n",
    "    'user2': [54, 54, 119, 119, 119],\n",
    "    'user3': [213, 98, 98, 35],\n",
    "}\n",
    "\n",
    "res = set()\n",
    "for key in ids.keys():\n",
    "    unique_values = set(ids[key])\n",
    "    res.update(unique_values)\n",
    "\n",
    "print(f'Результат: {res}')"
   ]
  },
  {
   "cell_type": "markdown",
   "id": "8d3d1269-bbe9-49f8-9ff2-f31f089b3d17",
   "metadata": {},
   "source": [
    "### Задание 2"
   ]
  },
  {
   "cell_type": "code",
   "execution_count": 7,
   "id": "cd13d016-3c61-4ea9-b3c4-e6a24c492d8b",
   "metadata": {},
   "outputs": [
    {
     "name": "stdout",
     "output_type": "stream",
     "text": [
      "Поисковых запросов, содержащих 2 слов(а): 42.86%\n",
      "Поисковых запросов, содержащих 3 слов(а): 57.14%\n"
     ]
    }
   ],
   "source": [
    "queries = [\n",
    "    'смотреть сериалы онлайн',\n",
    "    'новости спорта',\n",
    "    'афиша кино',\n",
    "    'курс доллара',\n",
    "    'сериалы этим летом',\n",
    "    'курс по питону',\n",
    "    'сериалы про спорт',\n",
    "]\n",
    "\n",
    "res = {}\n",
    "for query in queries:\n",
    "    str_length = str(len(query.split()))\n",
    "    prev_size = res.setdefault(str_length, 0)\n",
    "    res[str_length] = prev_size + 1\n",
    "\n",
    "queries_len = len(queries)\n",
    "for key in sorted(res.keys()):\n",
    "    float_value = res[key] / queries_len\n",
    "    rounded_value = round(float_value * 100, 2)    \n",
    "    print(f'Поисковых запросов, содержащих {key} слов(а): {rounded_value}%')"
   ]
  }
 ],
 "metadata": {
  "kernelspec": {
   "display_name": "Python 3 (ipykernel)",
   "language": "python",
   "name": "python3"
  },
  "language_info": {
   "codemirror_mode": {
    "name": "ipython",
    "version": 3
   },
   "file_extension": ".py",
   "mimetype": "text/x-python",
   "name": "python",
   "nbconvert_exporter": "python",
   "pygments_lexer": "ipython3",
   "version": "3.12.4"
  }
 },
 "nbformat": 4,
 "nbformat_minor": 5
}
