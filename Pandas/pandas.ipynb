{
 "cells": [
  {
   "cell_type": "markdown",
   "id": "dc39eaf0-90db-4fb0-9b21-4540ba7b3061",
   "metadata": {},
   "source": [
    "### Задание 1"
   ]
  },
  {
   "cell_type": "code",
   "execution_count": 9,
   "id": "e6f616e1-1950-4348-877b-7612585ddfe1",
   "metadata": {},
   "outputs": [
    {
     "name": "stdout",
     "output_type": "stream",
     "text": [
      "Самый высокооценённый фильм: Shawshank Redemption, The (1994)\n"
     ]
    }
   ],
   "source": [
    "import pandas as pd\n",
    "\n",
    "movies = pd.read_csv('movies.csv');\n",
    "ratings = pd.read_csv('ratings.csv');\n",
    "\n",
    "union_tables = ratings.merge(movies, on='movieId')\n",
    "title = union_tables.query('rating == 5.0').groupby('title').count().sort_values('rating', ascending=False).head(1).axes[0].tolist()[0]\n",
    "print(f'Самый высокооценённый фильм: {title}')"
   ]
  },
  {
   "cell_type": "markdown",
   "id": "8a82c9e1-fa25-4a50-b598-064ea496b623",
   "metadata": {},
   "source": [
    "### Задание 2"
   ]
  },
  {
   "cell_type": "code",
   "execution_count": 97,
   "id": "76da9bc7-f419-45d4-8e23-4a33cd90d334",
   "metadata": {},
   "outputs": [
    {
     "name": "stdout",
     "output_type": "stream",
     "text": [
      "Суммарное потребление стран Прибалтики: 240580.0\n"
     ]
    }
   ],
   "source": [
    "power = pd.read_csv('power.csv');\n",
    "sum = power.query('country == \"Estonia\" or country == \"Latvia\" or country == \"Lithuania\"') \\\n",
    "    .query('category == 4 or category == 12 or category == 21') \\\n",
    "    .query('quantity >= 0') \\\n",
    "    .query('year >= 2005 and year <= 2010').quantity.sum()\n",
    "print(f'Суммарное потребление стран Прибалтики: {sum}')"
   ]
  }
 ],
 "metadata": {
  "kernelspec": {
   "display_name": "Python 3 (ipykernel)",
   "language": "python",
   "name": "python3"
  },
  "language_info": {
   "codemirror_mode": {
    "name": "ipython",
    "version": 3
   },
   "file_extension": ".py",
   "mimetype": "text/x-python",
   "name": "python",
   "nbconvert_exporter": "python",
   "pygments_lexer": "ipython3",
   "version": "3.12.4"
  }
 },
 "nbformat": 4,
 "nbformat_minor": 5
}
