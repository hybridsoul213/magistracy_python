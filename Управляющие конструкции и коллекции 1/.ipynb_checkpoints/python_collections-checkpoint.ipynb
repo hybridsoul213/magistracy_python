{
 "cells": [
  {
   "cell_type": "markdown",
   "id": "7840d51d-545b-4fa0-958c-25717e9e5427",
   "metadata": {},
   "source": [
    "### Задание по теме «Управляющие конструкции и коллекции. Часть 1»\n"
   ]
  },
  {
   "cell_type": "markdown",
   "id": "71ca654e-9458-4cfa-9cde-8e8cb22636eb",
   "metadata": {},
   "source": [
    "Задание 1"
   ]
  },
  {
   "cell_type": "code",
   "execution_count": 6,
   "id": "ce747a1b-99d9-46e0-922d-165743bf51fd",
   "metadata": {},
   "outputs": [
    {
     "name": "stdin",
     "output_type": "stream",
     "text": [
      "Введите слово testing\n"
     ]
    },
    {
     "name": "stdout",
     "output_type": "stream",
     "text": [
      "t\n"
     ]
    }
   ],
   "source": [
    "str = input('Введите слово')\n",
    "\n",
    "if len(str) % 2 != 0:\n",
    "    print(str[len(str) // 2])\n",
    "else:\n",
    "    print(f'{str[len(str) // 2 - 1]}{str[len(str) // 2]}')"
   ]
  },
  {
   "cell_type": "markdown",
   "id": "afe8a498-d5e6-408e-a9e7-a8aadcd585d8",
   "metadata": {},
   "source": [
    "Задание 2"
   ]
  },
  {
   "cell_type": "code",
   "execution_count": 10,
   "id": "5a8bca4a-7196-480b-bbdc-16ed34b04e1a",
   "metadata": {},
   "outputs": [
    {
     "name": "stdout",
     "output_type": "stream",
     "text": [
      "Внимание, кто-то может остаться без пары!\n"
     ]
    }
   ],
   "source": [
    "# men = ['Peter', 'Alex', 'John', 'Arthur', 'Richard']\n",
    "# women = ['Kate', 'Liza', 'Kira', 'Emma', 'Trisha']\n",
    "\n",
    "men = ['Peter', 'Alex', 'John', 'Arthur', 'Richard', 'Michael']\n",
    "women = ['Kate', 'Liza', 'Kira', 'Emma', 'Trisha']\n",
    "\n",
    "if len(men) != len(women):\n",
    "    print('Внимание, кто-то может остаться без пары!')\n",
    "else:\n",
    "    sortedMen = sorted(men)\n",
    "    sortedWomen = sorted(women)\n",
    "    print('Идеальные пары:')\n",
    "    for i in range(len(men)):\n",
    "        print(f'{sortedMen[i]} и {sortedWomen[i]}')"
   ]
  }
 ],
 "metadata": {
  "kernelspec": {
   "display_name": "Python 3 (ipykernel)",
   "language": "python",
   "name": "python3"
  },
  "language_info": {
   "codemirror_mode": {
    "name": "ipython",
    "version": 3
   },
   "file_extension": ".py",
   "mimetype": "text/x-python",
   "name": "python",
   "nbconvert_exporter": "python",
   "pygments_lexer": "ipython3",
   "version": "3.12.4"
  }
 },
 "nbformat": 4,
 "nbformat_minor": 5
}
