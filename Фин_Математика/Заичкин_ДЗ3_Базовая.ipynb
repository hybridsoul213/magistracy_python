{
 "cells": [
  {
   "cell_type": "markdown",
   "id": "e0f1d138-1622-4304-8f6d-cd5dbb066d35",
   "metadata": {},
   "source": [
    "# Установим библиотеку Yahoo Finance"
   ]
  },
  {
   "cell_type": "code",
   "execution_count": 2,
   "id": "bba85c89-18b0-4d16-b38f-ed37cb5b9e19",
   "metadata": {},
   "outputs": [
    {
     "name": "stdout",
     "output_type": "stream",
     "text": [
      "Requirement already satisfied: yfinance in c:\\programdata\\anaconda3\\lib\\site-packages (0.2.50)\n",
      "Requirement already satisfied: pandas>=1.3.0 in c:\\programdata\\anaconda3\\lib\\site-packages (from yfinance) (2.2.2)\n",
      "Requirement already satisfied: numpy>=1.16.5 in c:\\programdata\\anaconda3\\lib\\site-packages (from yfinance) (1.26.4)\n",
      "Requirement already satisfied: requests>=2.31 in c:\\programdata\\anaconda3\\lib\\site-packages (from yfinance) (2.32.2)\n",
      "Requirement already satisfied: multitasking>=0.0.7 in c:\\programdata\\anaconda3\\lib\\site-packages (from yfinance) (0.0.11)\n",
      "Requirement already satisfied: lxml>=4.9.1 in c:\\programdata\\anaconda3\\lib\\site-packages (from yfinance) (5.2.1)\n",
      "Requirement already satisfied: platformdirs>=2.0.0 in c:\\programdata\\anaconda3\\lib\\site-packages (from yfinance) (3.10.0)\n",
      "Requirement already satisfied: pytz>=2022.5 in c:\\programdata\\anaconda3\\lib\\site-packages (from yfinance) (2024.1)\n",
      "Requirement already satisfied: frozendict>=2.3.4 in c:\\programdata\\anaconda3\\lib\\site-packages (from yfinance) (2.4.2)\n",
      "Requirement already satisfied: peewee>=3.16.2 in c:\\programdata\\anaconda3\\lib\\site-packages (from yfinance) (3.17.8)\n",
      "Requirement already satisfied: beautifulsoup4>=4.11.1 in c:\\programdata\\anaconda3\\lib\\site-packages (from yfinance) (4.12.3)\n",
      "Requirement already satisfied: html5lib>=1.1 in c:\\programdata\\anaconda3\\lib\\site-packages (from yfinance) (1.1)\n",
      "Requirement already satisfied: soupsieve>1.2 in c:\\programdata\\anaconda3\\lib\\site-packages (from beautifulsoup4>=4.11.1->yfinance) (2.5)\n",
      "Requirement already satisfied: six>=1.9 in c:\\programdata\\anaconda3\\lib\\site-packages (from html5lib>=1.1->yfinance) (1.16.0)\n",
      "Requirement already satisfied: webencodings in c:\\programdata\\anaconda3\\lib\\site-packages (from html5lib>=1.1->yfinance) (0.5.1)\n",
      "Requirement already satisfied: python-dateutil>=2.8.2 in c:\\programdata\\anaconda3\\lib\\site-packages (from pandas>=1.3.0->yfinance) (2.9.0.post0)\n",
      "Requirement already satisfied: tzdata>=2022.7 in c:\\programdata\\anaconda3\\lib\\site-packages (from pandas>=1.3.0->yfinance) (2023.3)\n",
      "Requirement already satisfied: charset-normalizer<4,>=2 in c:\\programdata\\anaconda3\\lib\\site-packages (from requests>=2.31->yfinance) (2.0.4)\n",
      "Requirement already satisfied: idna<4,>=2.5 in c:\\programdata\\anaconda3\\lib\\site-packages (from requests>=2.31->yfinance) (3.7)\n",
      "Requirement already satisfied: urllib3<3,>=1.21.1 in c:\\programdata\\anaconda3\\lib\\site-packages (from requests>=2.31->yfinance) (2.2.2)\n",
      "Requirement already satisfied: certifi>=2017.4.17 in c:\\programdata\\anaconda3\\lib\\site-packages (from requests>=2.31->yfinance) (2024.6.2)\n"
     ]
    }
   ],
   "source": [
    "!pip install yfinance"
   ]
  },
  {
   "cell_type": "markdown",
   "id": "9c1c68de-04e0-4e0d-aeb8-bed247703d84",
   "metadata": {},
   "source": [
    "# Первое задание"
   ]
  },
  {
   "cell_type": "code",
   "execution_count": 8,
   "id": "7848f009-f4d9-4142-8070-6a2841395038",
   "metadata": {},
   "outputs": [
    {
     "name": "stdout",
     "output_type": "stream",
     "text": [
      "Статистика теста ADF: -1.4889164024143104\n",
      "p-value: 0.5389869375871562\n",
      "Число лагов: 6\n",
      "Число наблюдений: 1253\n",
      "Критические значения:\n",
      "   1%: -3.4355796466416777\n",
      "   5%: -2.863849421064024\n",
      "   10%: -2.5679995625056926\n"
     ]
    }
   ],
   "source": [
    "import yfinance as yf\n",
    "from statsmodels.tsa.stattools import adfuller\n",
    "\n",
    "# Получаем данные о нефти Brent\n",
    "brent = yf.Ticker(\"BZ=F\")\n",
    "# выбираем период 5 лет\n",
    "data = brent.history(period=\"5y\")\n",
    "# выбираем только цену на момент закрытия\n",
    "prices = data['Close']\n",
    "\n",
    "# Применяем тест Дикки-Фуллера\n",
    "result = adfuller(prices)\n",
    "\n",
    "# Выводим результаты\n",
    "print('Статистика теста ADF:', result[0])\n",
    "print('p-value:', result[1])\n",
    "print('Число лагов:', result[2])\n",
    "print('Число наблюдений:', result[3])\n",
    "print('Критические значения:')\n",
    "for key, value in result[4].items():\n",
    "    print(f'   {key}: {value}')"
   ]
  },
  {
   "cell_type": "markdown",
   "id": "6776e591-152e-4829-bf4f-fe0fa90d08f8",
   "metadata": {},
   "source": [
    "## Так как p-value > 0.05, это означает, что данный ряд не является стационарным"
   ]
  },
  {
   "cell_type": "markdown",
   "id": "ceb39c69-0a51-426b-9d30-6dc615490e18",
   "metadata": {},
   "source": [
    "# Второе задание"
   ]
  },
  {
   "cell_type": "code",
   "execution_count": 11,
   "id": "a1b1e5cc-7448-4bc3-b02a-13312718f667",
   "metadata": {},
   "outputs": [
    {
     "name": "stdout",
     "output_type": "stream",
     "text": [
      "                            OLS Regression Results                            \n",
      "==============================================================================\n",
      "Dep. Variable:                 Dollar   R-squared:                       0.012\n",
      "Model:                            OLS   Adj. R-squared:                  0.011\n",
      "Method:                 Least Squares   F-statistic:                     14.13\n",
      "Date:                Thu, 21 Nov 2024   Prob (F-statistic):           0.000179\n",
      "Time:                        15:13:34   Log-Likelihood:                -4567.8\n",
      "No. Observations:                1176   AIC:                             9140.\n",
      "Df Residuals:                    1174   BIC:                             9150.\n",
      "Df Model:                           1                                         \n",
      "Covariance Type:            nonrobust                                         \n",
      "==============================================================================\n",
      "                 coef    std err          t      P>|t|      [0.025      0.975]\n",
      "------------------------------------------------------------------------------\n",
      "const         72.7441      1.344     54.145      0.000      70.108      75.380\n",
      "Brent          0.0651      0.017      3.760      0.000       0.031       0.099\n",
      "==============================================================================\n",
      "Omnibus:                       38.200   Durbin-Watson:                   0.095\n",
      "Prob(Omnibus):                  0.000   Jarque-Bera (JB):               49.151\n",
      "Skew:                           0.351   Prob(JB):                     2.12e-11\n",
      "Kurtosis:                       3.715   Cond. No.                         303.\n",
      "==============================================================================\n",
      "\n",
      "Notes:\n",
      "[1] Standard Errors assume that the covariance matrix of the errors is correctly specified.\n"
     ]
    }
   ],
   "source": [
    "import yfinance as yf\n",
    "import pandas as pd\n",
    "import statsmodels.api as sm\n",
    "import numpy as np\n",
    "\n",
    "# Получаем данные за последний год\n",
    "dollar = yf.Ticker(\"RUB=X\")\n",
    "brent = yf.Ticker(\"BZ=F\")\n",
    "\n",
    "# Загружаем исторические данные\n",
    "dollar_data = dollar.history(period=\"5y\")\n",
    "brent_data = brent.history(period=\"5y\")\n",
    "\n",
    "# Оставляем только столбец с ценами закрытия\n",
    "dollar_prices = dollar_data['Close']\n",
    "brent_prices = brent_data['Close']\n",
    "\n",
    "# Преобразуем индексы у наших массивов, чтобы у наших данных день начинался с 00:00:00\n",
    "dollar_prices.index = pd.DatetimeIndex(dollar_prices.index.values)\n",
    "brent_prices.index = pd.DatetimeIndex(list(map(lambda x: x - np.timedelta64(5, 'h'), brent_prices.index.values)))\n",
    "\n",
    "# Объединяем данные в один DataFrame\n",
    "data = pd.DataFrame({'Dollar': dollar_prices, 'Brent': brent_prices})\n",
    "data = data.dropna()  # Убираем строки с пропусками\n",
    "\n",
    "# Добавляем константу к нашей модели (для свободного члена)\n",
    "X = sm.add_constant(data['Brent'])\n",
    "Y = data['Dollar']\n",
    "\n",
    "# Создаем и обучаем модель\n",
    "model = sm.OLS(Y, X).fit()\n",
    "\n",
    "# Выводим результаты\n",
    "print(model.summary())"
   ]
  },
  {
   "cell_type": "markdown",
   "id": "242a55b6-4b54-4187-b654-d3eaf8c5419b",
   "metadata": {},
   "source": [
    "# Третье задание"
   ]
  },
  {
   "cell_type": "code",
   "execution_count": 71,
   "id": "03f4715c-3ed4-421e-96bc-043a59ad91c0",
   "metadata": {},
   "outputs": [
    {
     "name": "stdout",
     "output_type": "stream",
     "text": [
      "                            OLS Regression Results                            \n",
      "==============================================================================\n",
      "Dep. Variable:             Log_Dollar   R-squared:                       0.009\n",
      "Model:                            OLS   Adj. R-squared:                  0.008\n",
      "Method:                 Least Squares   F-statistic:                     10.23\n",
      "Date:                Thu, 21 Nov 2024   Prob (F-statistic):            0.00142\n",
      "Time:                        11:54:13   Log-Likelihood:                 564.36\n",
      "No. Observations:                1176   AIC:                            -1125.\n",
      "Df Residuals:                    1174   BIC:                            -1115.\n",
      "Df Model:                           1                                         \n",
      "Covariance Type:            nonrobust                                         \n",
      "==============================================================================\n",
      "                 coef    std err          t      P>|t|      [0.025      0.975]\n",
      "------------------------------------------------------------------------------\n",
      "const          4.1490      0.060     69.092      0.000       4.031       4.267\n",
      "Log_Brent      0.0448      0.014      3.198      0.001       0.017       0.072\n",
      "==============================================================================\n",
      "Omnibus:                        1.639   Durbin-Watson:                   0.083\n",
      "Prob(Omnibus):                  0.441   Jarque-Bera (JB):                1.648\n",
      "Skew:                          -0.050   Prob(JB):                        0.439\n",
      "Kurtosis:                       2.846   Cond. No.                         62.1\n",
      "==============================================================================\n",
      "\n",
      "Notes:\n",
      "[1] Standard Errors assume that the covariance matrix of the errors is correctly specified.\n"
     ]
    }
   ],
   "source": [
    "import yfinance as yf\n",
    "import pandas as pd\n",
    "import statsmodels.api as sm\n",
    "import numpy as np\n",
    "\n",
    "# Получаем ряды\n",
    "dollar = yf.Ticker(\"RUB=X\")\n",
    "brent = yf.Ticker(\"BZ=F\")\n",
    "\n",
    "# Загружаем исторические данные за 5 лет\n",
    "dollar_data = dollar.history(period=\"5y\")\n",
    "brent_data = brent.history(period=\"5y\")\n",
    "\n",
    "# Оставляем только столбец с ценами закрытия\n",
    "dollar_prices = dollar_data['Close']\n",
    "brent_prices = brent_data['Close']\n",
    "\n",
    "# Преобразуем индексу у наших массивов, чтобы у наших данных день начинался с 00:00:00\n",
    "dollar_prices.index = pd.DatetimeIndex(dollar_prices.index.values)\n",
    "brent_prices.index = pd.DatetimeIndex(list(map(lambda x: x - np.timedelta64(5, 'h'), brent_prices.index.values)))\n",
    "\n",
    "# Объединяем данные в один DataFrame\n",
    "data = pd.DataFrame({'Dollar': dollar_prices, 'Brent': brent_prices})\n",
    "data = data.dropna()  # Убираем строки с пропусками\n",
    "\n",
    "# Преобразуем в логарифмы\n",
    "data['Log_Dollar'] = np.log(data['Dollar'])\n",
    "data['Log_Brent'] = np.log(data['Brent'])\n",
    "\n",
    "# Добавляем константу к модели (для свободного члена)\n",
    "X = sm.add_constant(data['Log_Brent'])  # Используем логарифм цены на нефть\n",
    "Y = data['Log_Dollar']  # Логарифм курса доллара\n",
    "\n",
    "# Создаем и обучаем модель\n",
    "model = sm.OLS(Y, X).fit()\n",
    "\n",
    "# Выводим результаты\n",
    "print(model.summary())"
   ]
  },
  {
   "cell_type": "markdown",
   "id": "43eb0928-ae29-44b5-8411-58cb99dd8c58",
   "metadata": {},
   "source": [
    "## Четвёртое задание"
   ]
  },
  {
   "cell_type": "code",
   "execution_count": 4,
   "id": "4a13d7d0-fb1e-4ac4-b157-e95909d105ba",
   "metadata": {},
   "outputs": [
    {
     "data": {
      "image/png": "[encoded data removed]",
      "text/plain": [
       "<Figure size 640x480 with 1 Axes>"
      ]
     },
     "metadata": {},
     "output_type": "display_data"
    }
   ],
   "source": [
    "import yfinance as yf\n",
    "import pandas as pd\n",
    "import numpy as np\n",
    "import statsmodels.api as sm\n",
    "import matplotlib.pyplot as plt\n",
    "\n",
    "# Получаем данные за 5 лет\n",
    "brent = yf.Ticker(\"BZ=F\")\n",
    "brent_data = brent.history(period=\"5y\") \n",
    "prices = brent_data['Close']\n",
    "\n",
    "# Вычисляем логарифмы цен\n",
    "log_prices = np.log(prices)\n",
    "# Вычисляем лог-приросты\n",
    "log_diffs = log_prices.diff().dropna()\n",
    "\n",
    "# Строим ACF\n",
    "sm.graphics.tsa.plot_acf(log_diffs, lags=100)\n",
    "plt.title('Автокорреляция лог-приростов цены на нефть')\n",
    "plt.show()"
   ]
  }
 ],
 "metadata": {
  "kernelspec": {
   "display_name": "Python 3 (ipykernel)",
   "language": "python",
   "name": "python3"
  },
  "language_info": {
   "codemirror_mode": {
    "name": "ipython",
    "version": 3
   },
   "file_extension": ".py",
   "mimetype": "text/x-python",
   "name": "python",
   "nbconvert_exporter": "python",
   "pygments_lexer": "ipython3",
   "version": "3.12.4"
  }
 },
 "nbformat": 4,
 "nbformat_minor": 5
}
