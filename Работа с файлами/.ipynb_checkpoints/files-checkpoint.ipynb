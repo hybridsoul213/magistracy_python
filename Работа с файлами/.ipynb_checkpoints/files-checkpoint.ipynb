{
 "cells": [
  {
   "cell_type": "markdown",
   "id": "09b5db14-3103-4557-9a14-d6a50d350a75",
   "metadata": {},
   "source": [
    "### Задание 1"
   ]
  },
  {
   "cell_type": "code",
   "execution_count": 7,
   "id": "de9839b4-acef-4fd6-a100-66bd2a5f3487",
   "metadata": {},
   "outputs": [
    {
     "name": "stdout",
     "output_type": "stream",
     "text": [
      "1840e0b9d4 'Продукты'\n",
      "4e4f90fcfb 'Электроника'\n"
     ]
    }
   ],
   "source": [
    "import json\n",
    "\n",
    "purchases = {}\n",
    "with open('purchase_log.txt', 'r', encoding='utf-8') as file:\n",
    "    file.readline()\n",
    "    for line in file:\n",
    "        obj = json.loads(line)\n",
    "        user_id = obj['user_id']\n",
    "        category = obj['category']\n",
    "        purchases[user_id] = category\n",
    "\n",
    "i = 0\n",
    "for key in purchases:\n",
    "    i += 1\n",
    "    print(key, f\"'{purchases[key]}'\")\n",
    "    if i == 2:\n",
    "        break"
   ]
  },
  {
   "cell_type": "markdown",
   "id": "26a8bf5f-7f45-451e-ac13-781820462d5f",
   "metadata": {},
   "source": [
    "### Задание 2"
   ]
  },
  {
   "cell_type": "code",
   "execution_count": 5,
   "id": "83e39529-10cf-4b0f-969c-60357eeab45b",
   "metadata": {},
   "outputs": [],
   "source": [
    "with open('funnel.csv', 'w', encoding='utf-8') as funnel_file:\n",
    "    with open ('visit_log.csv', 'r', encoding='utf-8') as visit_file:\n",
    "        visit_file.readline()\n",
    "        for line in visit_file:\n",
    "            res_str = line\n",
    "            objs = line.split(',')\n",
    "            user_id = objs[0]\n",
    "\n",
    "            if user_id in purchases:\n",
    "                funnel_str = f'{line.strip()},{purchases[user_id]}\\n'\n",
    "                funnel_file.write(funnel_str)\n",
    "\n",
    "    funnel_file.close()"
   ]
  }
 ],
 "metadata": {
  "kernelspec": {
   "display_name": "Python 3 (ipykernel)",
   "language": "python",
   "name": "python3"
  },
  "language_info": {
   "codemirror_mode": {
    "name": "ipython",
    "version": 3
   },
   "file_extension": ".py",
   "mimetype": "text/x-python",
   "name": "python",
   "nbconvert_exporter": "python",
   "pygments_lexer": "ipython3",
   "version": "3.12.4"
  }
 },
 "nbformat": 4,
 "nbformat_minor": 5
}
