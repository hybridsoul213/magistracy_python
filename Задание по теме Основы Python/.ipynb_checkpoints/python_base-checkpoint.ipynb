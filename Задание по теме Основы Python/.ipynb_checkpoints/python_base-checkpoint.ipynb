{
 "cells": [
  {
   "cell_type": "markdown",
   "id": "7840d51d-545b-4fa0-958c-25717e9e5427",
   "metadata": {},
   "source": [
    "### Задание по теме «Основы Python»"
   ]
  },
  {
   "cell_type": "markdown",
   "id": "70d259d3-3f5c-4bc5-ac08-85eb297e8f55",
   "metadata": {},
   "source": [
    "Задание 1"
   ]
  },
  {
   "cell_type": "code",
   "execution_count": 6,
   "id": "32868275-8811-4e7c-aba4-b5ac8f41fdf1",
   "metadata": {},
   "outputs": [
    {
     "name": "stdin",
     "output_type": "stream",
     "text": [
      "Введите год 2019\n"
     ]
    },
    {
     "name": "stdout",
     "output_type": "stream",
     "text": [
      "Обычный год\n"
     ]
    }
   ],
   "source": [
    "year = int(input('Введите год'))\n",
    "\n",
    "if year % 4 != 0 or (year % 100 == 0 and year % 400 != 0):\n",
    "    print('Обычный год')\n",
    "else:\n",
    "    print('Високосный год')"
   ]
  },
  {
   "cell_type": "markdown",
   "id": "24aebe4a-4634-4a89-a733-51108824e43d",
   "metadata": {},
   "source": [
    "Задание 2"
   ]
  },
  {
   "cell_type": "code",
   "execution_count": 11,
   "id": "5483a08f-8a68-4542-adf9-626183f35f4b",
   "metadata": {},
   "outputs": [
    {
     "name": "stdin",
     "output_type": "stream",
     "text": [
      "Введите шестизначное число 123321\n"
     ]
    },
    {
     "name": "stdout",
     "output_type": "stream",
     "text": [
      "Счастливый билет\n"
     ]
    }
   ],
   "source": [
    "str = input('Введите шестизначное число')\n",
    "\n",
    "leftPointer = 0\n",
    "rightPointer = len(str) - 1\n",
    "\n",
    "leftSum = 0\n",
    "rightSum = 0\n",
    "\n",
    "while leftPointer < rightPointer:\n",
    "    leftPointer += 1\n",
    "    rightPointer -= 1\n",
    "    leftSum += int(str[leftPointer])\n",
    "    rightSum += int(str[rightPointer])\n",
    "\n",
    "if leftSum == rightSum:\n",
    "    print('Счастливый билет')\n",
    "else:\n",
    "    print('Несчастливый билет')"
   ]
  }
 ],
 "metadata": {
  "kernelspec": {
   "display_name": "Python 3 (ipykernel)",
   "language": "python",
   "name": "python3"
  },
  "language_info": {
   "codemirror_mode": {
    "name": "ipython",
    "version": 3
   },
   "file_extension": ".py",
   "mimetype": "text/x-python",
   "name": "python",
   "nbconvert_exporter": "python",
   "pygments_lexer": "ipython3",
   "version": "3.12.4"
  }
 },
 "nbformat": 4,
 "nbformat_minor": 5
}
