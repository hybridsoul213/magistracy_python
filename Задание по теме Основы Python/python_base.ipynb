{
 "cells": [
  {
   "cell_type": "markdown",
   "id": "7840d51d-545b-4fa0-958c-25717e9e5427",
   "metadata": {},
   "source": [
    "### Задание по теме «Основы Python»"
   ]
  },
  {
   "cell_type": "code",
   "execution_count": null,
   "id": "32868275-8811-4e7c-aba4-b5ac8f41fdf1",
   "metadata": {},
   "outputs": [],
   "source": []
  }
 ],
 "metadata": {
  "kernelspec": {
   "display_name": "Python 3 (ipykernel)",
   "language": "python",
   "name": "python3"
  },
  "language_info": {
   "codemirror_mode": {
    "name": "ipython",
    "version": 3
   },
   "file_extension": ".py",
   "mimetype": "text/x-python",
   "name": "python",
   "nbconvert_exporter": "python",
   "pygments_lexer": "ipython3",
   "version": "3.12.4"
  }
 },
 "nbformat": 4,
 "nbformat_minor": 5
}
