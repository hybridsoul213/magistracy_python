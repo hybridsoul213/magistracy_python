{
 "cells": [
  {
   "cell_type": "markdown",
   "id": "56550bc5-3eb8-4d64-a7b6-dbd360980077",
   "metadata": {},
   "source": [
    "### Задание 1"
   ]
  },
  {
   "cell_type": "code",
   "execution_count": 14,
   "id": "cc9d420f-7157-48ef-bb90-66f962a2c66c",
   "metadata": {},
   "outputs": [
    {
     "name": "stdout",
     "output_type": "stream",
     "text": [
      "Moscow time:  2002-10-02 00:00:00\n",
      "Guardian:  2013-10-11 00:00:00\n",
      "Daily news:  1977-08-18 00:00:00\n"
     ]
    }
   ],
   "source": [
    "from datetime import datetime\n",
    "\n",
    "def get_date(str):\n",
    "    return str[(str.index('—') + 1):].strip()\n",
    "\n",
    "moscow_times = 'The Moscow Times — Wednesday, October 2, 2002'\n",
    "guardian = 'The Guardian — Friday, 11.10.13'\n",
    "daily_news = 'Daily News — Thursday, 18 August 1977'\n",
    "\n",
    "print('Moscow time: ', datetime.strptime(get_date(moscow_times), '%A, %B %d, %Y'))\n",
    "print('Guardian: ', datetime.strptime(get_date(guardian), '%A, %d.%m.%y'))\n",
    "print('Daily news: ', datetime.strptime(get_date(daily_news), '%A, %d %B %Y'))"
   ]
  },
  {
   "cell_type": "markdown",
   "id": "be2ed2a5-0268-4690-89db-ac6530d5d147",
   "metadata": {},
   "source": [
    "### Задание 2"
   ]
  },
  {
   "cell_type": "code",
   "execution_count": 6,
   "id": "46db2b0f-7b00-4739-a14f-cb232aa19e67",
   "metadata": {},
   "outputs": [],
   "source": [
    "### todo"
   ]
  },
  {
   "cell_type": "code",
   "execution_count": null,
   "id": "9abe6049-be35-4023-878d-1eb2ba4ba51e",
   "metadata": {},
   "outputs": [],
   "source": []
  }
 ],
 "metadata": {
  "kernelspec": {
   "display_name": "Python 3 (ipykernel)",
   "language": "python",
   "name": "python3"
  },
  "language_info": {
   "codemirror_mode": {
    "name": "ipython",
    "version": 3
   },
   "file_extension": ".py",
   "mimetype": "text/x-python",
   "name": "python",
   "nbconvert_exporter": "python",
   "pygments_lexer": "ipython3",
   "version": "3.12.4"
  }
 },
 "nbformat": 4,
 "nbformat_minor": 5
}
