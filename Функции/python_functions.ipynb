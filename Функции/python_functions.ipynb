{
 "cells": [
  {
   "cell_type": "markdown",
   "id": "069d8646-ca03-4d0d-9745-ebdbb62cdb57",
   "metadata": {},
   "source": [
    "### Входные данные"
   ]
  },
  {
   "cell_type": "code",
   "execution_count": 1,
   "id": "aafb2311-009c-4617-9355-d4af7c5e63fd",
   "metadata": {},
   "outputs": [],
   "source": [
    "documents = [\n",
    "    {\"type\": \"passport\", \"number\": \"2207 876234\", \"name\": \"Василий Гупкин\"},\n",
    "    {\"type\": \"invoice\", \"number\": \"11-2\", \"name\": \"Геннадий Покемонов\"},\n",
    "    {\"type\": \"insurance\", \"number\": \"10006\", \"name\": \"Аристарх Павлов\"}\n",
    "]\n",
    "\n",
    "directories = {\n",
    "\t\"1\": [\"2207 876234\", \"11-2\"],\n",
    "\t\"2\": [\"10006\"],\n",
    "\t\"3\": []\n",
    "}"
   ]
  },
  {
   "cell_type": "markdown",
   "id": "eedbadb4-cc7e-4d36-bbfe-d32bd96adbb3",
   "metadata": {},
   "source": [
    "### Общие функции"
   ]
  },
  {
   "cell_type": "code",
   "execution_count": 3,
   "id": "6f5f44fb-6b70-4aea-9abb-3ec98c9f8ff6",
   "metadata": {},
   "outputs": [],
   "source": [
    "def get_command():\n",
    "    return input('Введите команду: \\n')\n",
    "def get_number():\n",
    "    return input('Введите номер документа: \\n')"
   ]
  },
  {
   "cell_type": "markdown",
   "id": "1193abb1-9777-47b9-b16d-1142387bb6f7",
   "metadata": {},
   "source": [
    "### Задание 1"
   ]
  },
  {
   "cell_type": "code",
   "execution_count": 5,
   "id": "5699bb6b-389e-4067-94cd-779c4357be8f",
   "metadata": {},
   "outputs": [],
   "source": [
    "def find_document_by_number(number):\n",
    "    for document in documents:\n",
    "        if document['number'] == number:\n",
    "            return document\n",
    "    return None        "
   ]
  },
  {
   "cell_type": "code",
   "execution_count": 7,
   "id": "7d052225-59c1-4ae1-a6bd-87bd0b50025c",
   "metadata": {},
   "outputs": [],
   "source": [
    "def get_name_from_document(document):\n",
    "    return document['name']"
   ]
  },
  {
   "cell_type": "code",
   "execution_count": 9,
   "id": "f772ac1a-749d-4c21-be16-2a31f1474302",
   "metadata": {},
   "outputs": [],
   "source": [
    "def find_owner():\n",
    "    number = get_number()\n",
    "    document = find_document_by_number(number)\n",
    "    if not document:\n",
    "        print('Владелец документа: владелец не найден')\n",
    "        return\n",
    "    print(f'Владелец документа: {get_name_from_document(document)}')"
   ]
  },
  {
   "cell_type": "markdown",
   "id": "79cb7f45-0c7f-493c-a74d-0dd6ca24513c",
   "metadata": {},
   "source": [
    "### Задание 2"
   ]
  },
  {
   "cell_type": "code",
   "execution_count": 11,
   "id": "0a20e39e-b84d-4289-aad0-8bcb3285ece7",
   "metadata": {},
   "outputs": [],
   "source": [
    "def get_row_by_number(number):\n",
    "    for row in directories:\n",
    "        if number in directories[row]:\n",
    "            return row\n",
    "    return None"
   ]
  },
  {
   "cell_type": "code",
   "execution_count": 13,
   "id": "067394c8-c502-4c40-9f1e-2ed513f2697f",
   "metadata": {},
   "outputs": [],
   "source": [
    "def find_row():\n",
    "    number = get_number()\n",
    "    row = get_row_by_number(number)\n",
    "    if not row:\n",
    "        print('Документ не найден')\n",
    "        return\n",
    "    print(f'Документ хранится на полке: {row}')"
   ]
  },
  {
   "cell_type": "markdown",
   "id": "b85bc7c6-696a-4dfe-9246-f4af1de8f6b9",
   "metadata": {},
   "source": [
    "### Тело программы"
   ]
  },
  {
   "cell_type": "code",
   "execution_count": 15,
   "id": "3442ef42-d3a5-442e-9c62-1330a6962651",
   "metadata": {},
   "outputs": [],
   "source": [
    "def main():\n",
    "    command = get_command()\n",
    "    while command != 'q':\n",
    "        if command == 'p':\n",
    "            find_owner()\n",
    "        elif command == 's':\n",
    "            find_row()\n",
    "        command = get_command()    \n",
    "    print('Вы успешно завершили программу')"
   ]
  },
  {
   "cell_type": "code",
   "execution_count": 21,
   "id": "122b9cd9-7387-4f0a-9765-88bcd5e73257",
   "metadata": {},
   "outputs": [
    {
     "name": "stdin",
     "output_type": "stream",
     "text": [
      "Введите команду: \n",
      " r\n",
      "Введите команду: \n",
      " p\n",
      "Введите номер документа: \n",
      " 1234\n"
     ]
    },
    {
     "name": "stdout",
     "output_type": "stream",
     "text": [
      "Владелец документа: владелец не найден\n"
     ]
    },
    {
     "name": "stdin",
     "output_type": "stream",
     "text": [
      "Введите команду: \n",
      " p\n",
      "Введите номер документа: \n",
      " 10006\n"
     ]
    },
    {
     "name": "stdout",
     "output_type": "stream",
     "text": [
      "Владелец документа: Аристарх Павлов\n"
     ]
    },
    {
     "name": "stdin",
     "output_type": "stream",
     "text": [
      "Введите команду: \n",
      " q\n"
     ]
    },
    {
     "name": "stdout",
     "output_type": "stream",
     "text": [
      "Вы успешно завершили программу\n"
     ]
    }
   ],
   "source": [
    "# Результат первого задания:\n",
    "# 1) проверка на считывание неккоректной команды\n",
    "# 2) проверка на несуществующий документ\n",
    "# 3) вывод имени владельца для найденного\n",
    "main()"
   ]
  },
  {
   "cell_type": "code",
   "execution_count": 23,
   "id": "fd829975-ee20-42e3-a278-fdf998a2047b",
   "metadata": {},
   "outputs": [
    {
     "name": "stdin",
     "output_type": "stream",
     "text": [
      "Введите команду: \n",
      " r\n",
      "Введите команду: \n",
      " s\n",
      "Введите номер документа: \n",
      " 1001\n"
     ]
    },
    {
     "name": "stdout",
     "output_type": "stream",
     "text": [
      "Документ не найден\n"
     ]
    },
    {
     "name": "stdin",
     "output_type": "stream",
     "text": [
      "Введите команду: \n",
      " s\n",
      "Введите номер документа: \n",
      " 10006\n"
     ]
    },
    {
     "name": "stdout",
     "output_type": "stream",
     "text": [
      "Документ хранится на полке: 2\n"
     ]
    },
    {
     "name": "stdin",
     "output_type": "stream",
     "text": [
      "Введите команду: \n",
      " q\n"
     ]
    },
    {
     "name": "stdout",
     "output_type": "stream",
     "text": [
      "Вы успешно завершили программу\n"
     ]
    }
   ],
   "source": [
    "# Результат второго задания:\n",
    "# 1) проверка на считывание неккоректной команды\n",
    "# 2) проверка на несуществующий документ\n",
    "# 3) вывод номера полки, если нашли документ\n",
    "main()"
   ]
  }
 ],
 "metadata": {
  "kernelspec": {
   "display_name": "Python 3 (ipykernel)",
   "language": "python",
   "name": "python3"
  },
  "language_info": {
   "codemirror_mode": {
    "name": "ipython",
    "version": 3
   },
   "file_extension": ".py",
   "mimetype": "text/x-python",
   "name": "python",
   "nbconvert_exporter": "python",
   "pygments_lexer": "ipython3",
   "version": "3.12.4"
  }
 },
 "nbformat": 4,
 "nbformat_minor": 5
}
