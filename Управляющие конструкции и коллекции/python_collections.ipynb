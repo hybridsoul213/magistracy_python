{
 "cells": [
  {
   "cell_type": "markdown",
   "id": "7840d51d-545b-4fa0-958c-25717e9e5427",
   "metadata": {},
   "source": [
    "### Задание по теме «Управляющие конструкции и коллекции. Часть 1»\n"
   ]
  }
 ],
 "metadata": {
  "kernelspec": {
   "display_name": "Python 3 (ipykernel)",
   "language": "python",
   "name": "python3"
  },
  "language_info": {
   "codemirror_mode": {
    "name": "ipython",
    "version": 3
   },
   "file_extension": ".py",
   "mimetype": "text/x-python",
   "name": "python",
   "nbconvert_exporter": "python",
   "pygments_lexer": "ipython3",
   "version": "3.12.4"
  }
 },
 "nbformat": 4,
 "nbformat_minor": 5
}
