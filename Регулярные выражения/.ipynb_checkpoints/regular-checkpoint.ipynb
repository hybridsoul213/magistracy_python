{
 "cells": [
  {
   "cell_type": "markdown",
   "id": "1ecebb95-0c97-41fb-8f0d-95321d83552e",
   "metadata": {},
   "source": [
    "### Задание 1"
   ]
  },
  {
   "cell_type": "code",
   "execution_count": 32,
   "id": "9916dbab-6ed7-40fa-95e9-eb1b5454249c",
   "metadata": {},
   "outputs": [
    {
     "name": "stdout",
     "output_type": "stream",
     "text": [
      "Результат: Номер А222ВС96 валиден. Регион: 96\n",
      "Результат: Номер не валиден\n"
     ]
    }
   ],
   "source": [
    "import re\n",
    "\n",
    "def check_state_number(number):\n",
    "    valid_letters = '[АВЕКМНОРСТУХ]'\n",
    "    reg_exp = r'{valid_letters}\\d{3}{valid_letters}{2}(\\d{2})'.replace('{valid_letters}', valid_letters)\n",
    "    res = re.search(reg_exp, number)\n",
    "    if not res:\n",
    "        print('Результат: Номер не валиден')\n",
    "    else:\n",
    "        print(f'Результат: Номер {number} валиден. Регион: {res.group(1)}')\n",
    "\n",
    "first_state_number = 'А222ВС96'\n",
    "check_state_number(first_state_number)\n",
    "\n",
    "second_state_number = 'АБ22ВВ193'\n",
    "check_state_number(second_state_number)"
   ]
  }
 ],
 "metadata": {
  "kernelspec": {
   "display_name": "Python 3 (ipykernel)",
   "language": "python",
   "name": "python3"
  },
  "language_info": {
   "codemirror_mode": {
    "name": "ipython",
    "version": 3
   },
   "file_extension": ".py",
   "mimetype": "text/x-python",
   "name": "python",
   "nbconvert_exporter": "python",
   "pygments_lexer": "ipython3",
   "version": "3.12.4"
  }
 },
 "nbformat": 4,
 "nbformat_minor": 5
}
