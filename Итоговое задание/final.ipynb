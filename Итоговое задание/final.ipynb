{
 "cells": [
  {
   "cell_type": "markdown",
   "id": "f6ac6cfe-e4ad-4ec7-b731-b755225031e3",
   "metadata": {},
   "source": [
    "# Итоговое задание"
   ]
  },
  {
   "cell_type": "code",
   "execution_count": 47,
   "id": "a03477f8-c316-47c2-983e-0dcd0af231ff",
   "metadata": {},
   "outputs": [],
   "source": [
    "import pandas as pd\n",
    "\n",
    "movies = pd.read_csv('movies_stats.csv')"
   ]
  },
  {
   "cell_type": "markdown",
   "id": "078e6e2b-4535-4a04-8173-c3dc230e4d64",
   "metadata": {},
   "source": [
    "## Инициализируем years"
   ]
  },
  {
   "cell_type": "code",
   "execution_count": 48,
   "id": "f4aade8b-4a75-43f2-be64-f6a95cf8fc6a",
   "metadata": {},
   "outputs": [
    {
     "name": "stdout",
     "output_type": "stream",
     "text": [
      "['1950', '1951', '1952', '1953', '1954', '1955', '1956', '1957', '1958', '1959', '1960', '1961', '1962', '1963', '1964', '1965', '1966', '1967', '1968', '1969', '1970', '1971', '1972', '1973', '1974', '1975', '1976', '1977', '1978', '1979', '1980', '1981', '1982', '1983', '1984', '1985', '1986', '1987', '1988', '1989', '1990', '1991', '1992', '1993', '1994', '1995', '1996', '1997', '1998', '1999', '2000', '2001', '2002', '2003', '2004', '2005', '2006', '2007', '2008', '2009', '2010']\n"
     ]
    }
   ],
   "source": [
    "years = list(range(1950, 2011))\n",
    "str_years = list(map(lambda x: str(x), years))\n",
    "print(str_years)"
   ]
  },
  {
   "cell_type": "markdown",
   "id": "5fc107e0-4713-4da2-9dd0-f652ba83f975",
   "metadata": {},
   "source": [
    "## Функция production_year"
   ]
  },
  {
   "cell_type": "code",
   "execution_count": 49,
   "id": "b6a78ff4-4acb-4782-95cd-9521f80edb85",
   "metadata": {},
   "outputs": [],
   "source": [
    "def production_year(title):\n",
    "    res = 1900\n",
    "    for year in str_years:\n",
    "        if year in title:\n",
    "            res = year\n",
    "            break\n",
    "    return res"
   ]
  },
  {
   "cell_type": "markdown",
   "id": "079dca5d-a23b-42e5-971b-213b58ef1a8b",
   "metadata": {},
   "source": [
    "## Запишем year в наш DataFrame"
   ]
  },
  {
   "cell_type": "code",
   "execution_count": 50,
   "id": "189c90a8-cdc1-4ca7-91fb-5e76140b66af",
   "metadata": {},
   "outputs": [
    {
     "data": {
      "text/html": [
       "<div>\n",
       "<style scoped>\n",
       "    .dataframe tbody tr th:only-of-type {\n",
       "        vertical-align: middle;\n",
       "    }\n",
       "\n",
       "    .dataframe tbody tr th {\n",
       "        vertical-align: top;\n",
       "    }\n",
       "\n",
       "    .dataframe thead th {\n",
       "        text-align: right;\n",
       "    }\n",
       "</style>\n",
       "<table border=\"1\" class=\"dataframe\">\n",
       "  <thead>\n",
       "    <tr style=\"text-align: right;\">\n",
       "      <th></th>\n",
       "      <th>userId</th>\n",
       "      <th>movieId</th>\n",
       "      <th>rating</th>\n",
       "      <th>timestamp</th>\n",
       "      <th>title</th>\n",
       "      <th>genres</th>\n",
       "      <th>year</th>\n",
       "    </tr>\n",
       "  </thead>\n",
       "  <tbody>\n",
       "    <tr>\n",
       "      <th>0</th>\n",
       "      <td>1</td>\n",
       "      <td>31</td>\n",
       "      <td>2.5</td>\n",
       "      <td>1260759144</td>\n",
       "      <td>Dangerous Minds (1995)</td>\n",
       "      <td>Drama</td>\n",
       "      <td>1995</td>\n",
       "    </tr>\n",
       "    <tr>\n",
       "      <th>1</th>\n",
       "      <td>1</td>\n",
       "      <td>1029</td>\n",
       "      <td>3.0</td>\n",
       "      <td>1260759179</td>\n",
       "      <td>Dumbo (1941)</td>\n",
       "      <td>Animation|Children|Drama|Musical</td>\n",
       "      <td>1900</td>\n",
       "    </tr>\n",
       "    <tr>\n",
       "      <th>2</th>\n",
       "      <td>1</td>\n",
       "      <td>1061</td>\n",
       "      <td>3.0</td>\n",
       "      <td>1260759182</td>\n",
       "      <td>Sleepers (1996)</td>\n",
       "      <td>Thriller</td>\n",
       "      <td>1996</td>\n",
       "    </tr>\n",
       "    <tr>\n",
       "      <th>3</th>\n",
       "      <td>1</td>\n",
       "      <td>1129</td>\n",
       "      <td>2.0</td>\n",
       "      <td>1260759185</td>\n",
       "      <td>Escape from New York (1981)</td>\n",
       "      <td>Action|Adventure|Sci-Fi|Thriller</td>\n",
       "      <td>1981</td>\n",
       "    </tr>\n",
       "    <tr>\n",
       "      <th>4</th>\n",
       "      <td>1</td>\n",
       "      <td>1172</td>\n",
       "      <td>4.0</td>\n",
       "      <td>1260759205</td>\n",
       "      <td>Cinema Paradiso (Nuovo cinema Paradiso) (1989)</td>\n",
       "      <td>Drama</td>\n",
       "      <td>1989</td>\n",
       "    </tr>\n",
       "  </tbody>\n",
       "</table>\n",
       "</div>"
      ],
      "text/plain": [
       "   userId  movieId  rating   timestamp  \\\n",
       "0       1       31     2.5  1260759144   \n",
       "1       1     1029     3.0  1260759179   \n",
       "2       1     1061     3.0  1260759182   \n",
       "3       1     1129     2.0  1260759185   \n",
       "4       1     1172     4.0  1260759205   \n",
       "\n",
       "                                            title  \\\n",
       "0                          Dangerous Minds (1995)   \n",
       "1                                    Dumbo (1941)   \n",
       "2                                 Sleepers (1996)   \n",
       "3                     Escape from New York (1981)   \n",
       "4  Cinema Paradiso (Nuovo cinema Paradiso) (1989)   \n",
       "\n",
       "                             genres  year  \n",
       "0                             Drama  1995  \n",
       "1  Animation|Children|Drama|Musical  1900  \n",
       "2                          Thriller  1996  \n",
       "3  Action|Adventure|Sci-Fi|Thriller  1981  \n",
       "4                             Drama  1989  "
      ]
     },
     "execution_count": 50,
     "metadata": {},
     "output_type": "execute_result"
    }
   ],
   "source": [
    "movies['year'] = movies['title'].apply(production_year)\n",
    "movies.head()"
   ]
  },
  {
   "cell_type": "markdown",
   "id": "31c6630e-b9d7-4430-b368-97423c0c3a26",
   "metadata": {},
   "source": [
    "## Средний рейтинг"
   ]
  },
  {
   "cell_type": "code",
   "execution_count": 51,
   "id": "fba84a87-37c9-4811-9e86-e5e1c67dd425",
   "metadata": {},
   "outputs": [
    {
     "name": "stdout",
     "output_type": "stream",
     "text": [
      "year\n",
      "1957    4.014241\n",
      "1972    4.011136\n",
      "1952    4.000000\n",
      "1954    3.994220\n",
      "1951    3.983539\n",
      "1974    3.978704\n",
      "1962    3.952446\n",
      "1950    3.915254\n",
      "1977    3.905786\n",
      "1964    3.841492\n",
      "1959    3.841033\n",
      "1958    3.823171\n",
      "1975    3.823077\n",
      "1969    3.817376\n",
      "1967    3.814516\n",
      "1960    3.809211\n",
      "1976    3.806794\n",
      "1973    3.806667\n",
      "1979    3.777966\n",
      "1981    3.758763\n",
      "1953    3.754587\n",
      "1955    3.751724\n",
      "1971    3.748830\n",
      "1968    3.737844\n",
      "1966    3.736726\n",
      "1980    3.708816\n",
      "1963    3.705966\n",
      "1970    3.700000\n",
      "1965    3.678715\n",
      "1961    3.663851\n",
      "1983    3.657635\n",
      "1984    3.651486\n",
      "1982    3.638306\n",
      "1991    3.628265\n",
      "1956    3.617647\n",
      "1987    3.606015\n",
      "1900    3.602960\n",
      "1985    3.588998\n",
      "1988    3.552990\n",
      "1978    3.549003\n",
      "2007    3.548538\n",
      "1994    3.537963\n",
      "2010    3.537157\n",
      "1993    3.536664\n",
      "1989    3.534349\n",
      "1986    3.528265\n",
      "2009    3.520378\n",
      "2006    3.511478\n",
      "2008    3.498057\n",
      "2004    3.491490\n",
      "1998    3.472754\n",
      "1995    3.472118\n",
      "1999    3.471692\n",
      "1992    3.466754\n",
      "2001    3.460052\n",
      "2002    3.456297\n",
      "1990    3.449169\n",
      "2005    3.448434\n",
      "2003    3.444777\n",
      "1996    3.426600\n",
      "1997    3.415764\n",
      "2000    3.356104\n"
     ]
    }
   ],
   "source": [
    "print(movies.groupby('year').rating.mean().sort_values(ascending=False).to_string())"
   ]
  }
 ],
 "metadata": {
  "kernelspec": {
   "display_name": "Python 3 (ipykernel)",
   "language": "python",
   "name": "python3"
  },
  "language_info": {
   "codemirror_mode": {
    "name": "ipython",
    "version": 3
   },
   "file_extension": ".py",
   "mimetype": "text/x-python",
   "name": "python",
   "nbconvert_exporter": "python",
   "pygments_lexer": "ipython3",
   "version": "3.12.4"
  }
 },
 "nbformat": 4,
 "nbformat_minor": 5
}
